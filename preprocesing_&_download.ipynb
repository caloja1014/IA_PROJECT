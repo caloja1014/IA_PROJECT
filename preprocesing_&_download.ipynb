{
 "cells": [
  {
   "cell_type": "code",
   "execution_count": 45,
   "metadata": {},
   "outputs": [],
   "source": [
    "import json\n",
    "from landsatxplore.api import API\n",
    "import os\n",
    "import pandas as pd\n",
    "from dotenv import load_dotenv\n",
    "from helper import extract_tar,re_scaling_img\n",
    "import shutil\n",
    "from glob import glob\n",
    "\n",
    "load_dotenv()\n",
    "username= os.getenv('USER_NAME')\n",
    "password= os.getenv('PASSWORD')\n"
   ]
  },
  {
   "cell_type": "code",
   "execution_count": 64,
   "metadata": {},
   "outputs": [],
   "source": [
    "\n",
    "\n",
    "def res_scaling_imgs(root_path,scene_id,out_put_path_root):\n",
    "    path_bands=os.path.join(root_path,scene_id,\"*B[2-5]*.TIF\")\n",
    "    S_sentinel_bands = glob(path_bands)\n",
    "    S_sentinel_bands.sort()\n",
    "    path_qa_pixel=os.path.join(root_path,scene_id,\"*QA_PIXEL.TIF\")\n",
    "    path_qa_pixel=glob(path_qa_pixel)\n",
    "    unified_sentinel=S_sentinel_bands+path_qa_pixel\n",
    "    os.mkdir(os.path.join(out_put_path_root,scene_id))\n",
    "    for path in range(len(unified_sentinel)):\n",
    "        path_sep=unified_sentinel[path].split(\"/\")\n",
    "        path_to_output=os.path.join(out_put_path_root,scene_id,path_sep[-1])\n",
    "        re_scaling_img(unified_sentinel[path],path_to_output)"
   ]
  },
  {
   "cell_type": "code",
   "execution_count": 39,
   "metadata": {},
   "outputs": [
    {
     "name": "stdout",
     "output_type": "stream",
     "text": [
      "CSRF: \n",
      "6eaccecf239c90bd504e5d7456370fe6-42fdb6f6b5d24e4fddb2e243e80c98b3\n"
     ]
    }
   ],
   "source": [
    "from landsatxplore.earthexplorer import EarthExplorer\n",
    "\n",
    "ee = EarthExplorer(username, password)"
   ]
  },
  {
   "cell_type": "code",
   "execution_count": 40,
   "metadata": {},
   "outputs": [],
   "source": [
    "pandas_df = pd.read_csv('./lansat_data.csv', sep=',',encoding='unicode_escape')"
   ]
  },
  {
   "cell_type": "code",
   "execution_count": 41,
   "metadata": {},
   "outputs": [],
   "source": [
    "pandas_df_filter=pandas_df[pandas_df['Land Cloud Cover']<80]"
   ]
  },
  {
   "cell_type": "code",
   "execution_count": 42,
   "metadata": {},
   "outputs": [],
   "source": [
    "path_landsat, indetifier_landsat = pandas_df_filter['Landsat Product Identifier L2'].to_list(), pandas_df_filter['Landsat Scene Identifier'].to_list()"
   ]
  },
  {
   "cell_type": "code",
   "execution_count": 66,
   "metadata": {},
   "outputs": [],
   "source": [
    "download_range= (200,400)\n",
    "download_output_dir='/home/caloja/Documents/university/IA/data_landsat/downloaded/'\n",
    "preprocessing_output_dir='/home/caloja/Documents/university/IA/data_landsat/preprocessed/'"
   ]
  },
  {
   "cell_type": "code",
   "execution_count": 67,
   "metadata": {},
   "outputs": [
    {
     "name": "stdout",
     "output_type": "stream",
     "text": [
      "https://earthexplorer.usgs.gov/download/5e83d14fec7cae84/LC80110622014070LGN01/\n"
     ]
    },
    {
     "name": "stderr",
     "output_type": "stream",
     "text": [
      "731MB [01:02, 12.2MB/s]                            \n"
     ]
    },
    {
     "name": "stdout",
     "output_type": "stream",
     "text": [
      "https://earthexplorer.usgs.gov/download/5e83d14fec7cae84/LC80110632014070LGN01/\n"
     ]
    },
    {
     "name": "stderr",
     "output_type": "stream",
     "text": [
      "100%|██████████| 779M/779M [01:07<00:00, 12.1MB/s] \n"
     ]
    },
    {
     "name": "stdout",
     "output_type": "stream",
     "text": [
      "https://earthexplorer.usgs.gov/download/5e83d14fec7cae84/LC80100612014079LGN01/\n"
     ]
    },
    {
     "name": "stderr",
     "output_type": "stream",
     "text": [
      "100%|██████████| 999M/999M [01:26<00:00, 12.2MB/s] \n"
     ]
    },
    {
     "name": "stdout",
     "output_type": "stream",
     "text": [
      "https://earthexplorer.usgs.gov/download/5e83d14fec7cae84/LC80100622014079LGN01/\n"
     ]
    },
    {
     "name": "stderr",
     "output_type": "stream",
     "text": [
      "0.99GB [01:27, 12.2MB/s]                            \n"
     ]
    },
    {
     "name": "stdout",
     "output_type": "stream",
     "text": [
      "https://earthexplorer.usgs.gov/download/5e83d14fec7cae84/LC80100632014079LGN01/\n"
     ]
    },
    {
     "name": "stderr",
     "output_type": "stream",
     "text": [
      "1.08GB [01:34, 12.2MB/s]                            \n"
     ]
    },
    {
     "name": "stdout",
     "output_type": "stream",
     "text": [
      "https://earthexplorer.usgs.gov/download/5e83d14fec7cae84/LC80100642014079LGN01/\n"
     ]
    },
    {
     "name": "stderr",
     "output_type": "stream",
     "text": [
      "100%|██████████| 1.00G/1.00G [01:27<00:00, 12.2MB/s]\n"
     ]
    },
    {
     "name": "stdout",
     "output_type": "stream",
     "text": [
      "https://earthexplorer.usgs.gov/download/5e83d14fec7cae84/LC80110592014086LGN01/\n"
     ]
    },
    {
     "name": "stderr",
     "output_type": "stream",
     "text": [
      "100%|██████████| 779M/779M [01:08<00:00, 12.0MB/s] \n"
     ]
    },
    {
     "name": "stdout",
     "output_type": "stream",
     "text": [
      "https://earthexplorer.usgs.gov/download/5e83d14fec7cae84/LC80110622014086LGN01/\n"
     ]
    },
    {
     "name": "stderr",
     "output_type": "stream",
     "text": [
      "100%|██████████| 781M/781M [01:08<00:00, 12.0MB/s] \n"
     ]
    },
    {
     "name": "stdout",
     "output_type": "stream",
     "text": [
      "https://earthexplorer.usgs.gov/download/5e83d14fec7cae84/LC80090602014088LGN01/\n"
     ]
    },
    {
     "name": "stderr",
     "output_type": "stream",
     "text": [
      "100%|██████████| 0.98G/0.98G [01:27<00:00, 12.0MB/s]\n"
     ]
    },
    {
     "name": "stdout",
     "output_type": "stream",
     "text": [
      "https://earthexplorer.usgs.gov/download/5e83d14fec7cae84/LC80090622014088LGN01/\n"
     ]
    },
    {
     "name": "stderr",
     "output_type": "stream",
     "text": [
      "998MB [01:25, 12.2MB/s]                            \n"
     ]
    },
    {
     "name": "stdout",
     "output_type": "stream",
     "text": [
      "https://earthexplorer.usgs.gov/download/5e83d14fec7cae84/LC80100592014095LGN01/\n"
     ]
    },
    {
     "name": "stderr",
     "output_type": "stream",
     "text": [
      "100%|██████████| 1.01G/1.01G [01:29<00:00, 12.2MB/s]\n"
     ]
    },
    {
     "name": "stdout",
     "output_type": "stream",
     "text": [
      "https://earthexplorer.usgs.gov/download/5e83d14fec7cae84/LC80100602014095LGN01/\n"
     ]
    },
    {
     "name": "stderr",
     "output_type": "stream",
     "text": [
      "100%|██████████| 1.06G/1.06G [01:32<00:00, 12.2MB/s]\n"
     ]
    },
    {
     "name": "stdout",
     "output_type": "stream",
     "text": [
      "https://earthexplorer.usgs.gov/download/5e83d14fec7cae84/LC80100612014095LGN01/\n"
     ]
    },
    {
     "name": "stderr",
     "output_type": "stream",
     "text": [
      "1.04GB [01:31, 12.2MB/s]                            \n"
     ]
    },
    {
     "name": "stdout",
     "output_type": "stream",
     "text": [
      "https://earthexplorer.usgs.gov/download/5e83d14fec7cae84/LC80100622014095LGN01/\n"
     ]
    },
    {
     "name": "stderr",
     "output_type": "stream",
     "text": [
      "100%|██████████| 1.03G/1.03G [01:30<00:00, 12.2MB/s]\n"
     ]
    },
    {
     "name": "stdout",
     "output_type": "stream",
     "text": [
      "https://earthexplorer.usgs.gov/download/5e83d14fec7cae84/LC80100632014095LGN01/\n"
     ]
    },
    {
     "name": "stderr",
     "output_type": "stream",
     "text": [
      "100%|██████████| 1.07G/1.07G [01:35<00:00, 11.9MB/s]\n"
     ]
    },
    {
     "name": "stdout",
     "output_type": "stream",
     "text": [
      "https://earthexplorer.usgs.gov/download/5e83d14fec7cae84/LC80100642014095LGN01/\n"
     ]
    },
    {
     "name": "stderr",
     "output_type": "stream",
     "text": [
      "993MB [01:25, 12.2MB/s]                            \n"
     ]
    },
    {
     "name": "stdout",
     "output_type": "stream",
     "text": [
      "https://earthexplorer.usgs.gov/download/5e83d14fec7cae84/LC80080602014097LGN01/\n"
     ]
    },
    {
     "name": "stderr",
     "output_type": "stream",
     "text": [
      "1.01GB [01:28, 12.2MB/s]                            \n"
     ]
    },
    {
     "name": "stdout",
     "output_type": "stream",
     "text": [
      "https://earthexplorer.usgs.gov/download/5e83d14fec7cae84/LC80080622014097LGN01/\n"
     ]
    },
    {
     "name": "stderr",
     "output_type": "stream",
     "text": [
      "100%|██████████| 1.02G/1.02G [01:41<00:00, 10.8MB/s]\n"
     ]
    },
    {
     "name": "stdout",
     "output_type": "stream",
     "text": [
      "https://earthexplorer.usgs.gov/download/5e83d14fec7cae84/LC80110622014102LGN01/\n"
     ]
    },
    {
     "name": "stderr",
     "output_type": "stream",
     "text": [
      "100%|██████████| 821M/821M [01:11<00:00, 12.0MB/s] \n"
     ]
    },
    {
     "name": "stdout",
     "output_type": "stream",
     "text": [
      "https://earthexplorer.usgs.gov/download/5e83d14fec7cae84/LC80110632014102LGN01/\n"
     ]
    },
    {
     "name": "stderr",
     "output_type": "stream",
     "text": [
      "874MB [01:15, 12.1MB/s]                            \n"
     ]
    },
    {
     "name": "stdout",
     "output_type": "stream",
     "text": [
      "https://earthexplorer.usgs.gov/download/5e83d14fec7cae84/LC80090592014104LGN01/\n"
     ]
    },
    {
     "name": "stderr",
     "output_type": "stream",
     "text": [
      "1.04GB [01:32, 12.0MB/s]                            \n"
     ]
    },
    {
     "name": "stdout",
     "output_type": "stream",
     "text": [
      "https://earthexplorer.usgs.gov/download/5e83d14fec7cae84/LC80090602014104LGN01/\n"
     ]
    },
    {
     "name": "stderr",
     "output_type": "stream",
     "text": [
      "100%|██████████| 1.00G/1.00G [01:29<00:00, 12.0MB/s]\n"
     ]
    },
    {
     "name": "stdout",
     "output_type": "stream",
     "text": [
      "https://earthexplorer.usgs.gov/download/5e83d14fec7cae84/LC80090612014104LGN01/\n"
     ]
    },
    {
     "name": "stderr",
     "output_type": "stream",
     "text": [
      "100%|██████████| 0.99G/0.99G [01:28<00:00, 12.0MB/s]\n"
     ]
    },
    {
     "name": "stdout",
     "output_type": "stream",
     "text": [
      "https://earthexplorer.usgs.gov/download/5e83d14fec7cae84/LC80090622014104LGN01/\n"
     ]
    },
    {
     "name": "stderr",
     "output_type": "stream",
     "text": [
      "0.99GB [01:28, 12.1MB/s]                            \n"
     ]
    },
    {
     "name": "stdout",
     "output_type": "stream",
     "text": [
      "https://earthexplorer.usgs.gov/download/5e83d14fec7cae84/LC80100592014111LGN01/\n"
     ]
    },
    {
     "name": "stderr",
     "output_type": "stream",
     "text": [
      "100%|██████████| 1.01G/1.01G [01:29<00:00, 12.1MB/s]\n"
     ]
    },
    {
     "name": "stdout",
     "output_type": "stream",
     "text": [
      "https://earthexplorer.usgs.gov/download/5e83d14fec7cae84/LC80100602014111LGN01/\n"
     ]
    },
    {
     "name": "stderr",
     "output_type": "stream",
     "text": [
      "100%|██████████| 1.06G/1.06G [01:33<00:00, 12.2MB/s]\n"
     ]
    },
    {
     "name": "stdout",
     "output_type": "stream",
     "text": [
      "https://earthexplorer.usgs.gov/download/5e83d14fec7cae84/LC80100632014111LGN01/\n"
     ]
    },
    {
     "name": "stderr",
     "output_type": "stream",
     "text": [
      "100%|██████████| 1.08G/1.08G [01:35<00:00, 12.1MB/s]\n"
     ]
    },
    {
     "name": "stdout",
     "output_type": "stream",
     "text": [
      "https://earthexplorer.usgs.gov/download/5e83d14fec7cae84/LC80100642014111LGN01/\n"
     ]
    },
    {
     "name": "stderr",
     "output_type": "stream",
     "text": [
      "0.99GB [01:27, 12.1MB/s]                            \n"
     ]
    },
    {
     "name": "stdout",
     "output_type": "stream",
     "text": [
      "https://earthexplorer.usgs.gov/download/5e83d14fec7cae84/LC80080602014113LGN01/\n"
     ]
    },
    {
     "name": "stderr",
     "output_type": "stream",
     "text": [
      "988MB [01:25, 12.2MB/s]                            \n"
     ]
    },
    {
     "name": "stdout",
     "output_type": "stream",
     "text": [
      "https://earthexplorer.usgs.gov/download/5e83d14fec7cae84/LC80080612014113LGN01/\n"
     ]
    },
    {
     "name": "stderr",
     "output_type": "stream",
     "text": [
      "100%|██████████| 0.99G/0.99G [01:27<00:00, 12.2MB/s]\n"
     ]
    },
    {
     "name": "stdout",
     "output_type": "stream",
     "text": [
      "https://earthexplorer.usgs.gov/download/5e83d14fec7cae84/LC80080622014113LGN01/\n"
     ]
    },
    {
     "name": "stderr",
     "output_type": "stream",
     "text": [
      "100%|██████████| 1.00G/1.00G [01:28<00:00, 12.1MB/s]\n"
     ]
    },
    {
     "name": "stdout",
     "output_type": "stream",
     "text": [
      "https://earthexplorer.usgs.gov/download/5e83d14fec7cae84/LC80110632014118LGN01/\n"
     ]
    },
    {
     "name": "stderr",
     "output_type": "stream",
     "text": [
      "864MB [01:21, 11.1MB/s]                            \n"
     ]
    },
    {
     "name": "stdout",
     "output_type": "stream",
     "text": [
      "https://earthexplorer.usgs.gov/download/5e83d14fec7cae84/LC80100622014127LGN01/\n"
     ]
    },
    {
     "name": "stderr",
     "output_type": "stream",
     "text": [
      "1.03GB [01:31, 12.2MB/s]                            \n"
     ]
    },
    {
     "name": "stdout",
     "output_type": "stream",
     "text": [
      "https://earthexplorer.usgs.gov/download/5e83d14fec7cae84/LC80100632014127LGN01/\n"
     ]
    },
    {
     "name": "stderr",
     "output_type": "stream",
     "text": [
      "100%|██████████| 1.07G/1.07G [01:33<00:00, 12.2MB/s]\n"
     ]
    },
    {
     "name": "stdout",
     "output_type": "stream",
     "text": [
      "https://earthexplorer.usgs.gov/download/5e83d14fec7cae84/LC80080612014129LGN01/\n"
     ]
    },
    {
     "name": "stderr",
     "output_type": "stream",
     "text": [
      "0.98GB [01:26, 12.1MB/s]                            \n"
     ]
    },
    {
     "name": "stdout",
     "output_type": "stream",
     "text": [
      "https://earthexplorer.usgs.gov/download/5e83d14fec7cae84/LC80110592014134LGN01/\n"
     ]
    },
    {
     "name": "stderr",
     "output_type": "stream",
     "text": [
      "100%|██████████| 793M/793M [01:08<00:00, 12.1MB/s] \n"
     ]
    },
    {
     "name": "stdout",
     "output_type": "stream",
     "text": [
      "https://earthexplorer.usgs.gov/download/5e83d14fec7cae84/LC80110612014134LGN01/\n"
     ]
    },
    {
     "name": "stderr",
     "output_type": "stream",
     "text": [
      "908MB [01:18, 12.1MB/s]                            \n"
     ]
    },
    {
     "name": "stdout",
     "output_type": "stream",
     "text": [
      "https://earthexplorer.usgs.gov/download/5e83d14fec7cae84/LC80110622014134LGN01/\n"
     ]
    },
    {
     "name": "stderr",
     "output_type": "stream",
     "text": [
      "834MB [01:12, 12.1MB/s]                            \n"
     ]
    },
    {
     "name": "stdout",
     "output_type": "stream",
     "text": [
      "https://earthexplorer.usgs.gov/download/5e83d14fec7cae84/LC80110632014134LGN01/\n"
     ]
    },
    {
     "name": "stderr",
     "output_type": "stream",
     "text": [
      "100%|██████████| 825M/825M [01:11<00:00, 12.2MB/s] \n"
     ]
    },
    {
     "name": "stdout",
     "output_type": "stream",
     "text": [
      "https://earthexplorer.usgs.gov/download/5e83d14fec7cae84/LC80100592014143LGN01/\n"
     ]
    },
    {
     "name": "stderr",
     "output_type": "stream",
     "text": [
      "956MB [01:22, 12.2MB/s]                            \n"
     ]
    },
    {
     "name": "stdout",
     "output_type": "stream",
     "text": [
      "https://earthexplorer.usgs.gov/download/5e83d14fec7cae84/LC80100602014143LGN01/\n"
     ]
    },
    {
     "name": "stderr",
     "output_type": "stream",
     "text": [
      "100%|██████████| 1.05G/1.05G [01:33<00:00, 12.1MB/s]\n"
     ]
    },
    {
     "name": "stdout",
     "output_type": "stream",
     "text": [
      "https://earthexplorer.usgs.gov/download/5e83d14fec7cae84/LC80100622014143LGN01/\n"
     ]
    },
    {
     "name": "stderr",
     "output_type": "stream",
     "text": [
      "1.04GB [01:31, 12.2MB/s]                            \n"
     ]
    },
    {
     "name": "stdout",
     "output_type": "stream",
     "text": [
      "https://earthexplorer.usgs.gov/download/5e83d14fec7cae84/LC80100632014143LGN01/\n"
     ]
    },
    {
     "name": "stderr",
     "output_type": "stream",
     "text": [
      "1.08GB [01:35, 12.2MB/s]                            \n"
     ]
    },
    {
     "name": "stdout",
     "output_type": "stream",
     "text": [
      "https://earthexplorer.usgs.gov/download/5e83d14fec7cae84/LC80110592014150LGN01/\n"
     ]
    },
    {
     "name": "stderr",
     "output_type": "stream",
     "text": [
      "811MB [01:13, 11.5MB/s]                            \n"
     ]
    },
    {
     "name": "stdout",
     "output_type": "stream",
     "text": [
      "https://earthexplorer.usgs.gov/download/5e83d14fec7cae84/LC80110622014150LGN01/\n"
     ]
    },
    {
     "name": "stderr",
     "output_type": "stream",
     "text": [
      "747MB [01:04, 12.1MB/s]                            \n"
     ]
    },
    {
     "name": "stdout",
     "output_type": "stream",
     "text": [
      "https://earthexplorer.usgs.gov/download/5e83d14fec7cae84/LC80110632014150LGN01/\n"
     ]
    },
    {
     "name": "stderr",
     "output_type": "stream",
     "text": [
      "100%|██████████| 843M/843M [01:38<00:00, 8.95MB/s] \n"
     ]
    },
    {
     "name": "stdout",
     "output_type": "stream",
     "text": [
      "https://earthexplorer.usgs.gov/download/5e83d14fec7cae84/LC80090602014152LGN01/\n"
     ]
    },
    {
     "name": "stderr",
     "output_type": "stream",
     "text": [
      "968MB [01:26, 11.8MB/s]                            \n"
     ]
    },
    {
     "name": "stdout",
     "output_type": "stream",
     "text": [
      "https://earthexplorer.usgs.gov/download/5e83d14fec7cae84/LC80090612014152LGN01/\n"
     ]
    },
    {
     "name": "stderr",
     "output_type": "stream",
     "text": [
      "1.05GB [01:33, 12.0MB/s]                            \n"
     ]
    },
    {
     "name": "stdout",
     "output_type": "stream",
     "text": [
      "https://earthexplorer.usgs.gov/download/5e83d14fec7cae84/LC80090632014152LGN01/\n"
     ]
    },
    {
     "name": "stderr",
     "output_type": "stream",
     "text": [
      "1.00GB [01:29, 11.9MB/s]                            \n"
     ]
    },
    {
     "name": "stdout",
     "output_type": "stream",
     "text": [
      "https://earthexplorer.usgs.gov/download/5e83d14fec7cae84/LC80100592014159LGN01/\n"
     ]
    },
    {
     "name": "stderr",
     "output_type": "stream",
     "text": [
      "100%|██████████| 1.01G/1.01G [01:30<00:00, 12.1MB/s]\n"
     ]
    },
    {
     "name": "stdout",
     "output_type": "stream",
     "text": [
      "https://earthexplorer.usgs.gov/download/5e83d14fec7cae84/LC80100602014159LGN01/\n"
     ]
    },
    {
     "name": "stderr",
     "output_type": "stream",
     "text": [
      "1.05GB [01:33, 12.0MB/s]                            \n"
     ]
    },
    {
     "name": "stdout",
     "output_type": "stream",
     "text": [
      "https://earthexplorer.usgs.gov/download/5e83d14fec7cae84/LC80100612014159LGN01/\n"
     ]
    },
    {
     "name": "stderr",
     "output_type": "stream",
     "text": [
      "1.02GB [01:29, 12.2MB/s]                            \n"
     ]
    },
    {
     "name": "stdout",
     "output_type": "stream",
     "text": [
      "https://earthexplorer.usgs.gov/download/5e83d14fec7cae84/LC80100622014159LGN01/\n"
     ]
    },
    {
     "name": "stderr",
     "output_type": "stream",
     "text": [
      "100%|██████████| 1.04G/1.04G [02:16<00:00, 8.17MB/s]\n"
     ]
    },
    {
     "name": "stdout",
     "output_type": "stream",
     "text": [
      "https://earthexplorer.usgs.gov/download/5e83d14fec7cae84/LC80100632014159LGN01/\n"
     ]
    },
    {
     "name": "stderr",
     "output_type": "stream",
     "text": [
      "100%|██████████| 1.08G/1.08G [01:35<00:00, 12.2MB/s]\n"
     ]
    },
    {
     "name": "stdout",
     "output_type": "stream",
     "text": [
      "https://earthexplorer.usgs.gov/download/5e83d14fec7cae84/LC80100642014159LGN01/\n"
     ]
    },
    {
     "name": "stderr",
     "output_type": "stream",
     "text": [
      "0.98GB [01:26, 12.2MB/s]                            \n"
     ]
    },
    {
     "name": "stdout",
     "output_type": "stream",
     "text": [
      "https://earthexplorer.usgs.gov/download/5e83d14fec7cae84/LC80080602014161LGN01/\n"
     ]
    },
    {
     "name": "stderr",
     "output_type": "stream",
     "text": [
      "100%|██████████| 0.98G/0.98G [01:26<00:00, 12.1MB/s]\n"
     ]
    },
    {
     "name": "stdout",
     "output_type": "stream",
     "text": [
      "https://earthexplorer.usgs.gov/download/5e83d14fec7cae84/LC80080612014161LGN01/\n"
     ]
    },
    {
     "name": "stderr",
     "output_type": "stream",
     "text": [
      "984MB [01:36, 10.7MB/s]                            \n"
     ]
    },
    {
     "name": "stdout",
     "output_type": "stream",
     "text": [
      "https://earthexplorer.usgs.gov/download/5e83d14fec7cae84/LC80110592014166LGN01/\n"
     ]
    },
    {
     "name": "stderr",
     "output_type": "stream",
     "text": [
      "867MB [01:14, 12.1MB/s]                            \n"
     ]
    },
    {
     "name": "stdout",
     "output_type": "stream",
     "text": [
      "https://earthexplorer.usgs.gov/download/5e83d14fec7cae84/LC80110622014166LGN01/\n"
     ]
    },
    {
     "name": "stderr",
     "output_type": "stream",
     "text": [
      "100%|██████████| 755M/755M [01:05<00:00, 12.1MB/s] \n"
     ]
    },
    {
     "name": "stdout",
     "output_type": "stream",
     "text": [
      "https://earthexplorer.usgs.gov/download/5e83d14fec7cae84/LC80110632014166LGN01/\n"
     ]
    },
    {
     "name": "stderr",
     "output_type": "stream",
     "text": [
      "821MB [02:11, 6.56MB/s]                            \n"
     ]
    },
    {
     "name": "stdout",
     "output_type": "stream",
     "text": [
      "https://earthexplorer.usgs.gov/download/5e83d14fec7cae84/LC80090632014168LGN01/\n"
     ]
    },
    {
     "name": "stderr",
     "output_type": "stream",
     "text": [
      "100%|██████████| 1.07G/1.07G [04:05<00:00, 4.68MB/s]\n"
     ]
    },
    {
     "name": "stdout",
     "output_type": "stream",
     "text": [
      "https://earthexplorer.usgs.gov/download/5e83d14fec7cae84/LC80100642014175LGN01/\n"
     ]
    },
    {
     "name": "stderr",
     "output_type": "stream",
     "text": [
      "100%|██████████| 1.01G/1.01G [04:35<00:00, 3.93MB/s]\n"
     ]
    },
    {
     "name": "stdout",
     "output_type": "stream",
     "text": [
      "https://earthexplorer.usgs.gov/download/5e83d14fec7cae84/LC80080602014177LGN01/\n"
     ]
    },
    {
     "name": "stderr",
     "output_type": "stream",
     "text": [
      "100%|██████████| 1.00G/1.00G [05:15<00:00, 3.40MB/s]\n"
     ]
    },
    {
     "name": "stdout",
     "output_type": "stream",
     "text": [
      "https://earthexplorer.usgs.gov/download/5e83d14fec7cae84/LC80080612014177LGN01/\n"
     ]
    },
    {
     "name": "stderr",
     "output_type": "stream",
     "text": [
      "975MB [05:15, 3.24MB/s]                            \n"
     ]
    },
    {
     "name": "stdout",
     "output_type": "stream",
     "text": [
      "https://earthexplorer.usgs.gov/download/5e83d14fec7cae84/LC80080622014177LGN01/\n"
     ]
    },
    {
     "name": "stderr",
     "output_type": "stream",
     "text": [
      "100%|██████████| 951M/951M [04:45<00:00, 3.49MB/s] \n"
     ]
    },
    {
     "name": "stdout",
     "output_type": "stream",
     "text": [
      "https://earthexplorer.usgs.gov/download/5e83d14fec7cae84/LC80110592014182LGN01/\n"
     ]
    },
    {
     "name": "stderr",
     "output_type": "stream",
     "text": [
      "100%|██████████| 789M/789M [04:10<00:00, 3.30MB/s] \n"
     ]
    },
    {
     "name": "stdout",
     "output_type": "stream",
     "text": [
      "https://earthexplorer.usgs.gov/download/5e83d14fec7cae84/LC80110602014182LGN01/\n"
     ]
    },
    {
     "name": "stderr",
     "output_type": "stream",
     "text": [
      "100%|██████████| 864M/864M [01:15<00:00, 12.0MB/s] \n"
     ]
    },
    {
     "name": "stdout",
     "output_type": "stream",
     "text": [
      "https://earthexplorer.usgs.gov/download/5e83d14fec7cae84/LC80110612014182LGN01/\n"
     ]
    },
    {
     "name": "stderr",
     "output_type": "stream",
     "text": [
      "882MB [01:16, 12.2MB/s]                            \n"
     ]
    },
    {
     "name": "stdout",
     "output_type": "stream",
     "text": [
      "https://earthexplorer.usgs.gov/download/5e83d14fec7cae84/LC80110622014182LGN01/\n"
     ]
    },
    {
     "name": "stderr",
     "output_type": "stream",
     "text": [
      "100%|██████████| 749M/749M [01:04<00:00, 12.1MB/s] \n"
     ]
    },
    {
     "name": "stdout",
     "output_type": "stream",
     "text": [
      "https://earthexplorer.usgs.gov/download/5e83d14fec7cae84/LC80110632014182LGN01/\n"
     ]
    },
    {
     "name": "stderr",
     "output_type": "stream",
     "text": [
      "100%|██████████| 815M/815M [03:00<00:00, 4.74MB/s] \n"
     ]
    },
    {
     "name": "stdout",
     "output_type": "stream",
     "text": [
      "https://earthexplorer.usgs.gov/download/5e83d14fec7cae84/LC80090592014184LGN01/\n"
     ]
    },
    {
     "name": "stderr",
     "output_type": "stream",
     "text": [
      "1.05GB [01:47, 10.5MB/s]                            \n"
     ]
    },
    {
     "name": "stdout",
     "output_type": "stream",
     "text": [
      "https://earthexplorer.usgs.gov/download/5e83d14fec7cae84/LC80090612014184LGN01/\n"
     ]
    },
    {
     "name": "stderr",
     "output_type": "stream",
     "text": [
      "100%|██████████| 1.06G/1.06G [01:37<00:00, 11.7MB/s]\n"
     ]
    },
    {
     "name": "stdout",
     "output_type": "stream",
     "text": [
      "https://earthexplorer.usgs.gov/download/5e83d14fec7cae84/LC80100592014191LGN01/\n"
     ]
    },
    {
     "name": "stderr",
     "output_type": "stream",
     "text": [
      "100%|██████████| 0.99G/0.99G [04:43<00:00, 3.76MB/s]\n"
     ]
    },
    {
     "name": "stdout",
     "output_type": "stream",
     "text": [
      "https://earthexplorer.usgs.gov/download/5e83d14fec7cae84/LC80100602014191LGN01/\n"
     ]
    },
    {
     "name": "stderr",
     "output_type": "stream",
     "text": [
      "100%|██████████| 1.03G/1.03G [04:35<00:00, 4.02MB/s]\n"
     ]
    },
    {
     "name": "stdout",
     "output_type": "stream",
     "text": [
      "https://earthexplorer.usgs.gov/download/5e83d14fec7cae84/LC80100612014191LGN01/\n"
     ]
    },
    {
     "name": "stderr",
     "output_type": "stream",
     "text": [
      "1.01GB [06:06, 2.97MB/s]                            \n"
     ]
    },
    {
     "name": "stdout",
     "output_type": "stream",
     "text": [
      "https://earthexplorer.usgs.gov/download/5e83d14fec7cae84/LC80100622014191LGN01/\n"
     ]
    },
    {
     "name": "stderr",
     "output_type": "stream",
     "text": [
      "100%|██████████| 0.99G/0.99G [05:46<00:00, 3.08MB/s]\n"
     ]
    },
    {
     "name": "stdout",
     "output_type": "stream",
     "text": [
      "https://earthexplorer.usgs.gov/download/5e83d14fec7cae84/LC80100632014191LGN01/\n"
     ]
    },
    {
     "name": "stderr",
     "output_type": "stream",
     "text": [
      "1.06GB [06:08, 3.10MB/s]                            \n"
     ]
    },
    {
     "name": "stdout",
     "output_type": "stream",
     "text": [
      "https://earthexplorer.usgs.gov/download/5e83d14fec7cae84/LC80100642014191LGN01/\n"
     ]
    },
    {
     "name": "stderr",
     "output_type": "stream",
     "text": [
      "100%|██████████| 1.00G/1.00G [04:47<00:00, 3.74MB/s]\n"
     ]
    },
    {
     "name": "stdout",
     "output_type": "stream",
     "text": [
      "https://earthexplorer.usgs.gov/download/5e83d14fec7cae84/LC80080622014193LGN01/\n"
     ]
    },
    {
     "name": "stderr",
     "output_type": "stream",
     "text": [
      "100%|██████████| 0.98G/0.98G [04:33<00:00, 3.85MB/s]\n"
     ]
    },
    {
     "name": "stdout",
     "output_type": "stream",
     "text": [
      "https://earthexplorer.usgs.gov/download/5e83d14fec7cae84/LC80110632014198LGN01/\n"
     ]
    },
    {
     "name": "stderr",
     "output_type": "stream",
     "text": [
      "813MB [01:09, 12.2MB/s]                            \n"
     ]
    },
    {
     "name": "stdout",
     "output_type": "stream",
     "text": [
      "https://earthexplorer.usgs.gov/download/5e83d14fec7cae84/LC80090592014200LGN01/\n"
     ]
    },
    {
     "name": "stderr",
     "output_type": "stream",
     "text": [
      "100%|██████████| 1.03G/1.03G [05:23<00:00, 3.42MB/s] \n"
     ]
    },
    {
     "name": "stdout",
     "output_type": "stream",
     "text": [
      "https://earthexplorer.usgs.gov/download/5e83d14fec7cae84/LC80100602014207LGN01/\n"
     ]
    },
    {
     "name": "stderr",
     "output_type": "stream",
     "text": [
      "100%|██████████| 1.05G/1.05G [01:31<00:00, 12.2MB/s]\n"
     ]
    },
    {
     "name": "stdout",
     "output_type": "stream",
     "text": [
      "https://earthexplorer.usgs.gov/download/5e83d14fec7cae84/LC80100612014207LGN01/\n"
     ]
    },
    {
     "name": "stderr",
     "output_type": "stream",
     "text": [
      "1.02GB [04:11, 4.37MB/s]                            \n"
     ]
    },
    {
     "name": "stdout",
     "output_type": "stream",
     "text": [
      "https://earthexplorer.usgs.gov/download/5e83d14fec7cae84/LC80100622014207LGN01/\n"
     ]
    },
    {
     "name": "stderr",
     "output_type": "stream",
     "text": [
      "100%|██████████| 1.03G/1.03G [05:04<00:00, 3.64MB/s]\n"
     ]
    },
    {
     "name": "stdout",
     "output_type": "stream",
     "text": [
      "https://earthexplorer.usgs.gov/download/5e83d14fec7cae84/LC80100632014207LGN01/\n"
     ]
    },
    {
     "name": "stderr",
     "output_type": "stream",
     "text": [
      "1.08GB [02:27, 7.86MB/s]                            \n"
     ]
    },
    {
     "name": "stdout",
     "output_type": "stream",
     "text": [
      "https://earthexplorer.usgs.gov/download/5e83d14fec7cae84/LC80100642014207LGN01/\n"
     ]
    },
    {
     "name": "stderr",
     "output_type": "stream",
     "text": [
      "100%|██████████| 990M/990M [02:12<00:00, 7.83MB/s] \n"
     ]
    },
    {
     "name": "stdout",
     "output_type": "stream",
     "text": [
      "https://earthexplorer.usgs.gov/download/5e83d14fec7cae84/LC80080602014209LGN01/\n"
     ]
    },
    {
     "name": "stderr",
     "output_type": "stream",
     "text": [
      "0.98GB [01:32, 11.4MB/s]                            \n"
     ]
    },
    {
     "name": "stdout",
     "output_type": "stream",
     "text": [
      "https://earthexplorer.usgs.gov/download/5e83d14fec7cae84/LC80110592014214LGN01/\n"
     ]
    },
    {
     "name": "stderr",
     "output_type": "stream",
     "text": [
      "100%|██████████| 837M/837M [04:33<00:00, 3.21MB/s] \n"
     ]
    },
    {
     "name": "stdout",
     "output_type": "stream",
     "text": [
      "https://earthexplorer.usgs.gov/download/5e83d14fec7cae84/LC80110602014214LGN01/\n"
     ]
    },
    {
     "name": "stderr",
     "output_type": "stream",
     "text": [
      "100%|██████████| 888M/888M [01:17<00:00, 12.0MB/s] \n"
     ]
    },
    {
     "name": "stdout",
     "output_type": "stream",
     "text": [
      "https://earthexplorer.usgs.gov/download/5e83d14fec7cae84/LC80110612014214LGN01/\n"
     ]
    },
    {
     "name": "stderr",
     "output_type": "stream",
     "text": [
      "849MB [02:40, 5.53MB/s]                            \n"
     ]
    },
    {
     "name": "stdout",
     "output_type": "stream",
     "text": [
      "https://earthexplorer.usgs.gov/download/5e83d14fec7cae84/LC80110622014214LGN01/\n"
     ]
    },
    {
     "name": "stderr",
     "output_type": "stream",
     "text": [
      "100%|██████████| 690M/690M [01:00<00:00, 11.9MB/s] \n"
     ]
    },
    {
     "name": "stdout",
     "output_type": "stream",
     "text": [
      "https://earthexplorer.usgs.gov/download/5e83d14fec7cae84/LC80110632014214LGN01/\n"
     ]
    },
    {
     "name": "stderr",
     "output_type": "stream",
     "text": [
      "768MB [01:07, 12.0MB/s]                            \n"
     ]
    },
    {
     "name": "stdout",
     "output_type": "stream",
     "text": [
      "https://earthexplorer.usgs.gov/download/5e83d14fec7cae84/LC80090592014216LGN01/\n"
     ]
    },
    {
     "name": "stderr",
     "output_type": "stream",
     "text": [
      "100%|██████████| 1.02G/1.02G [01:30<00:00, 12.1MB/s]\n"
     ]
    },
    {
     "name": "stdout",
     "output_type": "stream",
     "text": [
      "https://earthexplorer.usgs.gov/download/5e83d14fec7cae84/LC80090602014216LGN01/\n"
     ]
    },
    {
     "name": "stderr",
     "output_type": "stream",
     "text": [
      "100%|██████████| 978M/978M [01:24<00:00, 12.2MB/s] \n"
     ]
    },
    {
     "name": "stdout",
     "output_type": "stream",
     "text": [
      "https://earthexplorer.usgs.gov/download/5e83d14fec7cae84/LC80090612014216LGN01/\n"
     ]
    },
    {
     "name": "stderr",
     "output_type": "stream",
     "text": [
      "100%|██████████| 985M/985M [01:25<00:00, 12.1MB/s] \n"
     ]
    },
    {
     "name": "stdout",
     "output_type": "stream",
     "text": [
      "https://earthexplorer.usgs.gov/download/5e83d14fec7cae84/LC80090622014216LGN01/\n"
     ]
    },
    {
     "name": "stderr",
     "output_type": "stream",
     "text": [
      "100%|██████████| 0.98G/0.98G [01:27<00:00, 12.1MB/s]\n"
     ]
    },
    {
     "name": "stdout",
     "output_type": "stream",
     "text": [
      "https://earthexplorer.usgs.gov/download/5e83d14fec7cae84/LC80090632014216LGN01/\n"
     ]
    },
    {
     "name": "stderr",
     "output_type": "stream",
     "text": [
      "0.99GB [01:27, 12.1MB/s]                            \n"
     ]
    },
    {
     "name": "stdout",
     "output_type": "stream",
     "text": [
      "https://earthexplorer.usgs.gov/download/5e83d14fec7cae84/LC80100592014223LGN01/\n"
     ]
    },
    {
     "name": "stderr",
     "output_type": "stream",
     "text": [
      "100%|██████████| 1.00G/1.00G [01:29<00:00, 12.1MB/s]\n"
     ]
    },
    {
     "name": "stdout",
     "output_type": "stream",
     "text": [
      "https://earthexplorer.usgs.gov/download/5e83d14fec7cae84/LC80100602014223LGN01/\n"
     ]
    },
    {
     "name": "stderr",
     "output_type": "stream",
     "text": [
      "1.04GB [01:32, 12.2MB/s]                            \n"
     ]
    },
    {
     "name": "stdout",
     "output_type": "stream",
     "text": [
      "https://earthexplorer.usgs.gov/download/5e83d14fec7cae84/LC80100612014223LGN01/\n"
     ]
    },
    {
     "name": "stderr",
     "output_type": "stream",
     "text": [
      "1.02GB [01:44, 10.5MB/s]                            \n"
     ]
    },
    {
     "name": "stdout",
     "output_type": "stream",
     "text": [
      "https://earthexplorer.usgs.gov/download/5e83d14fec7cae84/LC80100622014223LGN01/\n"
     ]
    },
    {
     "name": "stderr",
     "output_type": "stream",
     "text": [
      "1.01GB [01:29, 12.2MB/s]                            \n"
     ]
    },
    {
     "name": "stdout",
     "output_type": "stream",
     "text": [
      "https://earthexplorer.usgs.gov/download/5e83d14fec7cae84/LC80100632014223LGN01/\n"
     ]
    },
    {
     "name": "stderr",
     "output_type": "stream",
     "text": [
      "1.08GB [01:37, 11.9MB/s]                            \n"
     ]
    },
    {
     "name": "stdout",
     "output_type": "stream",
     "text": [
      "https://earthexplorer.usgs.gov/download/5e83d14fec7cae84/LC80100642014223LGN01/\n"
     ]
    },
    {
     "name": "stderr",
     "output_type": "stream",
     "text": [
      "100%|██████████| 0.98G/0.98G [01:26<00:00, 12.1MB/s]\n"
     ]
    },
    {
     "name": "stdout",
     "output_type": "stream",
     "text": [
      "https://earthexplorer.usgs.gov/download/5e83d14fec7cae84/LC80080602014225LGN01/\n"
     ]
    },
    {
     "name": "stderr",
     "output_type": "stream",
     "text": [
      "100%|██████████| 1.02G/1.02G [01:30<00:00, 12.2MB/s]\n"
     ]
    },
    {
     "name": "stdout",
     "output_type": "stream",
     "text": [
      "https://earthexplorer.usgs.gov/download/5e83d14fec7cae84/LC80080612014225LGN01/\n"
     ]
    },
    {
     "name": "stderr",
     "output_type": "stream",
     "text": [
      "100%|██████████| 1.00G/1.00G [01:28<00:00, 12.2MB/s]\n"
     ]
    },
    {
     "name": "stdout",
     "output_type": "stream",
     "text": [
      "https://earthexplorer.usgs.gov/download/5e83d14fec7cae84/LC80080622014225LGN01/\n"
     ]
    },
    {
     "name": "stderr",
     "output_type": "stream",
     "text": [
      "1.02GB [01:30, 12.1MB/s]                            \n"
     ]
    },
    {
     "name": "stdout",
     "output_type": "stream",
     "text": [
      "https://earthexplorer.usgs.gov/download/5e83d14fec7cae84/LC80110632014230LGN01/\n"
     ]
    },
    {
     "name": "stderr",
     "output_type": "stream",
     "text": [
      "852MB [01:13, 12.1MB/s]                            \n"
     ]
    },
    {
     "name": "stdout",
     "output_type": "stream",
     "text": [
      "https://earthexplorer.usgs.gov/download/5e83d14fec7cae84/LC80090592014232LGN01/\n"
     ]
    },
    {
     "name": "stderr",
     "output_type": "stream",
     "text": [
      "1.00GB [01:28, 12.1MB/s]                            \n"
     ]
    },
    {
     "name": "stdout",
     "output_type": "stream",
     "text": [
      "https://earthexplorer.usgs.gov/download/5e83d14fec7cae84/LC80090622014232LGN01/\n"
     ]
    },
    {
     "name": "stderr",
     "output_type": "stream",
     "text": [
      "0.99GB [01:27, 12.1MB/s]                            \n"
     ]
    },
    {
     "name": "stdout",
     "output_type": "stream",
     "text": [
      "https://earthexplorer.usgs.gov/download/5e83d14fec7cae84/LC80090632014232LGN01/\n"
     ]
    },
    {
     "name": "stderr",
     "output_type": "stream",
     "text": [
      "1.00GB [01:28, 12.2MB/s]                            \n"
     ]
    },
    {
     "name": "stdout",
     "output_type": "stream",
     "text": [
      "https://earthexplorer.usgs.gov/download/5e83d14fec7cae84/LC80100592014239LGN01/\n"
     ]
    },
    {
     "name": "stderr",
     "output_type": "stream",
     "text": [
      "100%|██████████| 1.00G/1.00G [01:28<00:00, 12.1MB/s]\n"
     ]
    },
    {
     "name": "stdout",
     "output_type": "stream",
     "text": [
      "https://earthexplorer.usgs.gov/download/5e83d14fec7cae84/LC80100602014239LGN01/\n"
     ]
    },
    {
     "name": "stderr",
     "output_type": "stream",
     "text": [
      "100%|██████████| 1.05G/1.05G [01:33<00:00, 12.2MB/s]\n"
     ]
    },
    {
     "name": "stdout",
     "output_type": "stream",
     "text": [
      "https://earthexplorer.usgs.gov/download/5e83d14fec7cae84/LC80100612014239LGN01/\n"
     ]
    },
    {
     "name": "stderr",
     "output_type": "stream",
     "text": [
      "1.01GB [01:29, 12.1MB/s]                            \n"
     ]
    },
    {
     "name": "stdout",
     "output_type": "stream",
     "text": [
      "https://earthexplorer.usgs.gov/download/5e83d14fec7cae84/LC80100622014239LGN01/\n"
     ]
    },
    {
     "name": "stderr",
     "output_type": "stream",
     "text": [
      "1.03GB [01:30, 12.2MB/s]                            \n"
     ]
    },
    {
     "name": "stdout",
     "output_type": "stream",
     "text": [
      "https://earthexplorer.usgs.gov/download/5e83d14fec7cae84/LC80100632014239LGN01/\n"
     ]
    },
    {
     "name": "stderr",
     "output_type": "stream",
     "text": [
      "100%|██████████| 1.08G/1.08G [02:05<00:00, 9.20MB/s]\n"
     ]
    },
    {
     "name": "stdout",
     "output_type": "stream",
     "text": [
      "https://earthexplorer.usgs.gov/download/5e83d14fec7cae84/LC80100642014239LGN01/\n"
     ]
    },
    {
     "name": "stderr",
     "output_type": "stream",
     "text": [
      "1.01GB [01:53, 9.62MB/s]                            \n"
     ]
    },
    {
     "name": "stdout",
     "output_type": "stream",
     "text": [
      "https://earthexplorer.usgs.gov/download/5e83d14fec7cae84/LC80110612014246LGN01/\n"
     ]
    },
    {
     "name": "stderr",
     "output_type": "stream",
     "text": [
      "100%|██████████| 855M/855M [01:13<00:00, 12.1MB/s] \n"
     ]
    },
    {
     "name": "stdout",
     "output_type": "stream",
     "text": [
      "https://earthexplorer.usgs.gov/download/5e83d14fec7cae84/LC80110622014246LGN01/\n"
     ]
    },
    {
     "name": "stderr",
     "output_type": "stream",
     "text": [
      "100%|██████████| 747M/747M [01:04<00:00, 12.1MB/s] \n"
     ]
    },
    {
     "name": "stdout",
     "output_type": "stream",
     "text": [
      "https://earthexplorer.usgs.gov/download/5e83d14fec7cae84/LC80110632014246LGN01/\n"
     ]
    },
    {
     "name": "stderr",
     "output_type": "stream",
     "text": [
      "822MB [01:11, 12.0MB/s]                            \n"
     ]
    },
    {
     "name": "stdout",
     "output_type": "stream",
     "text": [
      "https://earthexplorer.usgs.gov/download/5e83d14fec7cae84/LC80090592014248LGN01/\n"
     ]
    },
    {
     "name": "stderr",
     "output_type": "stream",
     "text": [
      "1.06GB [01:52, 10.1MB/s]                            \n"
     ]
    },
    {
     "name": "stdout",
     "output_type": "stream",
     "text": [
      "https://earthexplorer.usgs.gov/download/5e83d14fec7cae84/LC80090612014248LGN01/\n"
     ]
    },
    {
     "name": "stderr",
     "output_type": "stream",
     "text": [
      "1.05GB [01:42, 11.1MB/s]                            \n"
     ]
    },
    {
     "name": "stdout",
     "output_type": "stream",
     "text": [
      "https://earthexplorer.usgs.gov/download/5e83d14fec7cae84/LC80090632014248LGN01/\n"
     ]
    },
    {
     "name": "stderr",
     "output_type": "stream",
     "text": [
      "100%|██████████| 1.03G/1.03G [03:09<00:00, 5.80MB/s]\n"
     ]
    },
    {
     "name": "stdout",
     "output_type": "stream",
     "text": [
      "https://earthexplorer.usgs.gov/download/5e83d14fec7cae84/LC80100642014255LGN01/\n"
     ]
    },
    {
     "name": "stderr",
     "output_type": "stream",
     "text": [
      "1.02GB [01:32, 11.9MB/s]                            \n"
     ]
    },
    {
     "name": "stdout",
     "output_type": "stream",
     "text": [
      "https://earthexplorer.usgs.gov/download/5e83d14fec7cae84/LC80080602014257LGN01/\n"
     ]
    },
    {
     "name": "stderr",
     "output_type": "stream",
     "text": [
      "100%|██████████| 999M/999M [01:26<00:00, 12.1MB/s] \n"
     ]
    },
    {
     "name": "stdout",
     "output_type": "stream",
     "text": [
      "https://earthexplorer.usgs.gov/download/5e83d14fec7cae84/LC80080612014257LGN01/\n"
     ]
    },
    {
     "name": "stderr",
     "output_type": "stream",
     "text": [
      "100%|██████████| 1.03G/1.03G [01:31<00:00, 12.1MB/s]\n"
     ]
    },
    {
     "name": "stdout",
     "output_type": "stream",
     "text": [
      "https://earthexplorer.usgs.gov/download/5e83d14fec7cae84/LC80080622014257LGN01/\n"
     ]
    },
    {
     "name": "stderr",
     "output_type": "stream",
     "text": [
      "100%|██████████| 1.01G/1.01G [01:30<00:00, 12.0MB/s]\n"
     ]
    },
    {
     "name": "stdout",
     "output_type": "stream",
     "text": [
      "https://earthexplorer.usgs.gov/download/5e83d14fec7cae84/LC80110602014262LGN01/\n"
     ]
    },
    {
     "name": "stderr",
     "output_type": "stream",
     "text": [
      "890MB [01:18, 11.9MB/s]                            \n"
     ]
    },
    {
     "name": "stdout",
     "output_type": "stream",
     "text": [
      "https://earthexplorer.usgs.gov/download/5e83d14fec7cae84/LC80110612014262LGN01/\n"
     ]
    },
    {
     "name": "stderr",
     "output_type": "stream",
     "text": [
      "100%|██████████| 869M/869M [01:17<00:00, 11.8MB/s] \n"
     ]
    },
    {
     "name": "stdout",
     "output_type": "stream",
     "text": [
      "https://earthexplorer.usgs.gov/download/5e83d14fec7cae84/LC80110622014262LGN01/\n"
     ]
    },
    {
     "name": "stderr",
     "output_type": "stream",
     "text": [
      "100%|██████████| 821M/821M [01:13<00:00, 11.8MB/s] \n"
     ]
    },
    {
     "name": "stdout",
     "output_type": "stream",
     "text": [
      "https://earthexplorer.usgs.gov/download/5e83d14fec7cae84/LC80110632014262LGN01/\n"
     ]
    },
    {
     "name": "stderr",
     "output_type": "stream",
     "text": [
      "868MB [01:15, 12.1MB/s]                            \n"
     ]
    },
    {
     "name": "stdout",
     "output_type": "stream",
     "text": [
      "https://earthexplorer.usgs.gov/download/5e83d14fec7cae84/LC80090612014264LGN01/\n"
     ]
    },
    {
     "name": "stderr",
     "output_type": "stream",
     "text": [
      "1.04GB [02:21, 7.91MB/s]                            \n"
     ]
    },
    {
     "name": "stdout",
     "output_type": "stream",
     "text": [
      "https://earthexplorer.usgs.gov/download/5e83d14fec7cae84/LC80100592014271LGN01/\n"
     ]
    },
    {
     "name": "stderr",
     "output_type": "stream",
     "text": [
      "1.00GB [01:27, 12.2MB/s]                            \n"
     ]
    },
    {
     "name": "stdout",
     "output_type": "stream",
     "text": [
      "https://earthexplorer.usgs.gov/download/5e83d14fec7cae84/LC80100602014271LGN01/\n"
     ]
    },
    {
     "name": "stderr",
     "output_type": "stream",
     "text": [
      "100%|██████████| 1.03G/1.03G [01:33<00:00, 11.8MB/s]\n"
     ]
    },
    {
     "name": "stdout",
     "output_type": "stream",
     "text": [
      "https://earthexplorer.usgs.gov/download/5e83d14fec7cae84/LC80100612014271LGN01/\n"
     ]
    },
    {
     "name": "stderr",
     "output_type": "stream",
     "text": [
      "0.98GB [01:29, 11.8MB/s]                            \n"
     ]
    },
    {
     "name": "stdout",
     "output_type": "stream",
     "text": [
      "https://earthexplorer.usgs.gov/download/5e83d14fec7cae84/LC80100632014271LGN01/\n"
     ]
    },
    {
     "name": "stderr",
     "output_type": "stream",
     "text": [
      "100%|██████████| 1.07G/1.07G [01:35<00:00, 12.1MB/s]\n"
     ]
    },
    {
     "name": "stdout",
     "output_type": "stream",
     "text": [
      "https://earthexplorer.usgs.gov/download/5e83d14fec7cae84/LC80100642014271LGN01/\n"
     ]
    },
    {
     "name": "stderr",
     "output_type": "stream",
     "text": [
      "100%|██████████| 0.98G/0.98G [01:25<00:00, 12.2MB/s]\n"
     ]
    },
    {
     "name": "stdout",
     "output_type": "stream",
     "text": [
      "https://earthexplorer.usgs.gov/download/5e83d14fec7cae84/LC80080602014273LGN01/\n"
     ]
    },
    {
     "name": "stderr",
     "output_type": "stream",
     "text": [
      "100%|██████████| 984M/984M [01:24<00:00, 12.1MB/s] \n"
     ]
    },
    {
     "name": "stdout",
     "output_type": "stream",
     "text": [
      "https://earthexplorer.usgs.gov/download/5e83d14fec7cae84/LC80080612014273LGN01/\n"
     ]
    },
    {
     "name": "stderr",
     "output_type": "stream",
     "text": [
      "976MB [02:13, 7.69MB/s]                            \n"
     ]
    },
    {
     "name": "stdout",
     "output_type": "stream",
     "text": [
      "https://earthexplorer.usgs.gov/download/5e83d14fec7cae84/LC80080622014273LGN01/\n"
     ]
    },
    {
     "name": "stderr",
     "output_type": "stream",
     "text": [
      "100%|██████████| 830M/830M [01:13<00:00, 11.8MB/s] \n"
     ]
    },
    {
     "name": "stdout",
     "output_type": "stream",
     "text": [
      "https://earthexplorer.usgs.gov/download/5e83d14fec7cae84/LC80110592014278LGN01/\n"
     ]
    },
    {
     "name": "stderr",
     "output_type": "stream",
     "text": [
      "100%|██████████| 837M/837M [01:13<00:00, 11.9MB/s] \n"
     ]
    },
    {
     "name": "stdout",
     "output_type": "stream",
     "text": [
      "https://earthexplorer.usgs.gov/download/5e83d14fec7cae84/LC80110632014278LGN01/\n"
     ]
    },
    {
     "name": "stderr",
     "output_type": "stream",
     "text": [
      "810MB [01:09, 12.1MB/s]                            \n"
     ]
    },
    {
     "name": "stdout",
     "output_type": "stream",
     "text": [
      "https://earthexplorer.usgs.gov/download/5e83d14fec7cae84/LC80100602014287LGN01/\n"
     ]
    },
    {
     "name": "stderr",
     "output_type": "stream",
     "text": [
      "100%|██████████| 1.04G/1.04G [01:31<00:00, 12.2MB/s]\n"
     ]
    },
    {
     "name": "stdout",
     "output_type": "stream",
     "text": [
      "https://earthexplorer.usgs.gov/download/5e83d14fec7cae84/LC80100612014287LGN01/\n"
     ]
    },
    {
     "name": "stderr",
     "output_type": "stream",
     "text": [
      "0.99GB [01:27, 12.2MB/s]                            \n"
     ]
    },
    {
     "name": "stdout",
     "output_type": "stream",
     "text": [
      "https://earthexplorer.usgs.gov/download/5e83d14fec7cae84/LC80100632014287LGN01/\n"
     ]
    },
    {
     "name": "stderr",
     "output_type": "stream",
     "text": [
      "100%|██████████| 1.03G/1.03G [01:34<00:00, 11.7MB/s]\n"
     ]
    },
    {
     "name": "stdout",
     "output_type": "stream",
     "text": [
      "https://earthexplorer.usgs.gov/download/5e83d14fec7cae84/LC80100642014287LGN01/\n"
     ]
    },
    {
     "name": "stderr",
     "output_type": "stream",
     "text": [
      "100%|██████████| 0.98G/0.98G [01:28<00:00, 11.9MB/s]\n"
     ]
    },
    {
     "name": "stdout",
     "output_type": "stream",
     "text": [
      "https://earthexplorer.usgs.gov/download/5e83d14fec7cae84/LC80110592014294LGN01/\n"
     ]
    },
    {
     "name": "stderr",
     "output_type": "stream",
     "text": [
      "100%|██████████| 896M/896M [01:19<00:00, 11.9MB/s] \n"
     ]
    },
    {
     "name": "stdout",
     "output_type": "stream",
     "text": [
      "https://earthexplorer.usgs.gov/download/5e83d14fec7cae84/LC80110622014294LGN01/\n"
     ]
    },
    {
     "name": "stderr",
     "output_type": "stream",
     "text": [
      "100%|██████████| 810M/810M [01:11<00:00, 11.8MB/s] \n"
     ]
    },
    {
     "name": "stdout",
     "output_type": "stream",
     "text": [
      "https://earthexplorer.usgs.gov/download/5e83d14fec7cae84/LC80110632014294LGN01/\n"
     ]
    },
    {
     "name": "stderr",
     "output_type": "stream",
     "text": [
      "100%|██████████| 830M/830M [01:12<00:00, 12.0MB/s] \n"
     ]
    },
    {
     "name": "stdout",
     "output_type": "stream",
     "text": [
      "https://earthexplorer.usgs.gov/download/5e83d14fec7cae84/LC80090592014296LGN01/\n",
      "('Connection aborted.', RemoteDisconnected('Remote end closed connection without response'))\n",
      "https://earthexplorer.usgs.gov/download/5e83d14fec7cae84/LC80090622014296LGN01/\n"
     ]
    },
    {
     "name": "stderr",
     "output_type": "stream",
     "text": [
      "1.02GB [01:33, 11.7MB/s]                            \n"
     ]
    },
    {
     "name": "stdout",
     "output_type": "stream",
     "text": [
      "https://earthexplorer.usgs.gov/download/5e83d14fec7cae84/LC80100592014303LGN01/\n"
     ]
    },
    {
     "name": "stderr",
     "output_type": "stream",
     "text": [
      "100%|██████████| 1.00G/1.00G [01:31<00:00, 11.7MB/s]\n"
     ]
    },
    {
     "name": "stdout",
     "output_type": "stream",
     "text": [
      "https://earthexplorer.usgs.gov/download/5e83d14fec7cae84/LC80100602014303LGN01/\n"
     ]
    },
    {
     "name": "stderr",
     "output_type": "stream",
     "text": [
      "100%|██████████| 1.04G/1.04G [01:34<00:00, 11.8MB/s]\n"
     ]
    },
    {
     "name": "stdout",
     "output_type": "stream",
     "text": [
      "https://earthexplorer.usgs.gov/download/5e83d14fec7cae84/LC80100612014303LGN01/\n"
     ]
    },
    {
     "name": "stderr",
     "output_type": "stream",
     "text": [
      "1.00GB [01:29, 12.0MB/s]                            \n"
     ]
    },
    {
     "name": "stdout",
     "output_type": "stream",
     "text": [
      "https://earthexplorer.usgs.gov/download/5e83d14fec7cae84/LC80100622014303LGN01/\n"
     ]
    },
    {
     "name": "stderr",
     "output_type": "stream",
     "text": [
      "0.99GB [01:28, 12.1MB/s]                            \n"
     ]
    },
    {
     "name": "stdout",
     "output_type": "stream",
     "text": [
      "https://earthexplorer.usgs.gov/download/5e83d14fec7cae84/LC80100632014303LGN01/\n"
     ]
    },
    {
     "name": "stderr",
     "output_type": "stream",
     "text": [
      "100%|██████████| 1.07G/1.07G [01:36<00:00, 11.9MB/s]\n"
     ]
    },
    {
     "name": "stdout",
     "output_type": "stream",
     "text": [
      "https://earthexplorer.usgs.gov/download/5e83d14fec7cae84/LC80100642014303LGN01/\n"
     ]
    },
    {
     "name": "stderr",
     "output_type": "stream",
     "text": [
      "100%|██████████| 985M/985M [01:26<00:00, 12.0MB/s] \n"
     ]
    },
    {
     "name": "stdout",
     "output_type": "stream",
     "text": [
      "https://earthexplorer.usgs.gov/download/5e83d14fec7cae84/LC80090592014312LGN01/\n"
     ]
    },
    {
     "name": "stderr",
     "output_type": "stream",
     "text": [
      "100%|██████████| 1.04G/1.04G [01:33<00:00, 12.0MB/s]\n"
     ]
    },
    {
     "name": "stdout",
     "output_type": "stream",
     "text": [
      "https://earthexplorer.usgs.gov/download/5e83d14fec7cae84/LC80090602014312LGN01/\n"
     ]
    },
    {
     "name": "stderr",
     "output_type": "stream",
     "text": [
      "1.01GB [01:30, 12.0MB/s]                            \n"
     ]
    },
    {
     "name": "stdout",
     "output_type": "stream",
     "text": [
      "https://earthexplorer.usgs.gov/download/5e83d14fec7cae84/LC80090612014312LGN01/\n"
     ]
    },
    {
     "name": "stderr",
     "output_type": "stream",
     "text": [
      "1.03GB [01:32, 11.9MB/s]                            \n"
     ]
    },
    {
     "name": "stdout",
     "output_type": "stream",
     "text": [
      "https://earthexplorer.usgs.gov/download/5e83d14fec7cae84/LC80090622014312LGN01/\n"
     ]
    },
    {
     "name": "stderr",
     "output_type": "stream",
     "text": [
      "1.02GB [01:30, 12.1MB/s]                            \n"
     ]
    },
    {
     "name": "stdout",
     "output_type": "stream",
     "text": [
      "https://earthexplorer.usgs.gov/download/5e83d14fec7cae84/LC80090632014312LGN01/\n"
     ]
    },
    {
     "name": "stderr",
     "output_type": "stream",
     "text": [
      "1.05GB [01:32, 12.2MB/s]                            \n"
     ]
    },
    {
     "name": "stdout",
     "output_type": "stream",
     "text": [
      "https://earthexplorer.usgs.gov/download/5e83d14fec7cae84/LC80100612014319LGN01/\n"
     ]
    },
    {
     "name": "stderr",
     "output_type": "stream",
     "text": [
      "100%|██████████| 972M/972M [01:24<00:00, 12.1MB/s] \n"
     ]
    },
    {
     "name": "stdout",
     "output_type": "stream",
     "text": [
      "https://earthexplorer.usgs.gov/download/5e83d14fec7cae84/LC80100632014319LGN01/\n"
     ]
    },
    {
     "name": "stderr",
     "output_type": "stream",
     "text": [
      "1.04GB [01:31, 12.2MB/s]                            \n"
     ]
    },
    {
     "name": "stdout",
     "output_type": "stream",
     "text": [
      "https://earthexplorer.usgs.gov/download/5e83d14fec7cae84/LC80100642014319LGN01/\n"
     ]
    },
    {
     "name": "stderr",
     "output_type": "stream",
     "text": [
      "987MB [01:25, 12.2MB/s]                            \n"
     ]
    },
    {
     "name": "stdout",
     "output_type": "stream",
     "text": [
      "https://earthexplorer.usgs.gov/download/5e83d14fec7cae84/LC80110632014326LGN01/\n"
     ]
    },
    {
     "name": "stderr",
     "output_type": "stream",
     "text": [
      "100%|██████████| 838M/838M [01:11<00:00, 12.2MB/s] \n"
     ]
    },
    {
     "name": "stdout",
     "output_type": "stream",
     "text": [
      "https://earthexplorer.usgs.gov/download/5e83d14fec7cae84/LC80090592014328LGN01/\n"
     ]
    },
    {
     "name": "stderr",
     "output_type": "stream",
     "text": [
      "100%|██████████| 1.08G/1.08G [01:34<00:00, 12.2MB/s]\n"
     ]
    },
    {
     "name": "stdout",
     "output_type": "stream",
     "text": [
      "https://earthexplorer.usgs.gov/download/5e83d14fec7cae84/LC80090612014328LGN01/\n"
     ]
    },
    {
     "name": "stderr",
     "output_type": "stream",
     "text": [
      "100%|██████████| 1.00G/1.00G [01:28<00:00, 12.2MB/s]\n"
     ]
    },
    {
     "name": "stdout",
     "output_type": "stream",
     "text": [
      "https://earthexplorer.usgs.gov/download/5e83d14fec7cae84/LC80090622014328LGN01/\n"
     ]
    },
    {
     "name": "stderr",
     "output_type": "stream",
     "text": [
      "1.01GB [01:28, 12.2MB/s]                            \n"
     ]
    },
    {
     "name": "stdout",
     "output_type": "stream",
     "text": [
      "https://earthexplorer.usgs.gov/download/5e83d14fec7cae84/LC80090632014328LGN01/\n"
     ]
    },
    {
     "name": "stderr",
     "output_type": "stream",
     "text": [
      "0.99GB [01:27, 12.2MB/s]                            \n"
     ]
    },
    {
     "name": "stdout",
     "output_type": "stream",
     "text": [
      "https://earthexplorer.usgs.gov/download/5e83d14fec7cae84/LC80100612014335LGN01/\n"
     ]
    },
    {
     "name": "stderr",
     "output_type": "stream",
     "text": [
      "1.02GB [01:29, 12.2MB/s]                            \n"
     ]
    },
    {
     "name": "stdout",
     "output_type": "stream",
     "text": [
      "https://earthexplorer.usgs.gov/download/5e83d14fec7cae84/LC80100632014335LGN01/\n"
     ]
    },
    {
     "name": "stderr",
     "output_type": "stream",
     "text": [
      "100%|██████████| 1.07G/1.07G [01:33<00:00, 12.2MB/s]\n"
     ]
    },
    {
     "name": "stdout",
     "output_type": "stream",
     "text": [
      "https://earthexplorer.usgs.gov/download/5e83d14fec7cae84/LC80100642014335LGN01/\n"
     ]
    },
    {
     "name": "stderr",
     "output_type": "stream",
     "text": [
      "0.99GB [01:27, 12.2MB/s]                            \n"
     ]
    },
    {
     "name": "stdout",
     "output_type": "stream",
     "text": [
      "https://earthexplorer.usgs.gov/download/5e83d14fec7cae84/LC80080602014337LGN01/\n"
     ]
    },
    {
     "name": "stderr",
     "output_type": "stream",
     "text": [
      "100%|██████████| 932M/932M [01:28<00:00, 11.0MB/s] \n"
     ]
    },
    {
     "name": "stdout",
     "output_type": "stream",
     "text": [
      "https://earthexplorer.usgs.gov/download/5e83d14fec7cae84/LC80080612014337LGN01/\n"
     ]
    },
    {
     "name": "stderr",
     "output_type": "stream",
     "text": [
      "866MB [01:14, 12.2MB/s]                            \n"
     ]
    },
    {
     "name": "stdout",
     "output_type": "stream",
     "text": [
      "https://earthexplorer.usgs.gov/download/5e83d14fec7cae84/LC80080622014337LGN01/\n"
     ]
    },
    {
     "name": "stderr",
     "output_type": "stream",
     "text": [
      "100%|██████████| 862M/862M [01:13<00:00, 12.2MB/s] \n"
     ]
    },
    {
     "name": "stdout",
     "output_type": "stream",
     "text": [
      "https://earthexplorer.usgs.gov/download/5e83d14fec7cae84/LC80110622014342LGN01/\n"
     ]
    },
    {
     "name": "stderr",
     "output_type": "stream",
     "text": [
      "787MB [01:08, 12.1MB/s]                            \n"
     ]
    },
    {
     "name": "stdout",
     "output_type": "stream",
     "text": [
      "https://earthexplorer.usgs.gov/download/5e83d14fec7cae84/LC80110632014342LGN01/\n"
     ]
    },
    {
     "name": "stderr",
     "output_type": "stream",
     "text": [
      "100%|██████████| 818M/818M [01:10<00:00, 12.2MB/s] \n"
     ]
    },
    {
     "name": "stdout",
     "output_type": "stream",
     "text": [
      "https://earthexplorer.usgs.gov/download/5e83d14fec7cae84/LC80090592014344LGN01/\n"
     ]
    },
    {
     "name": "stderr",
     "output_type": "stream",
     "text": [
      "1.08GB [01:35, 12.2MB/s]                            \n"
     ]
    },
    {
     "name": "stdout",
     "output_type": "stream",
     "text": [
      "https://earthexplorer.usgs.gov/download/5e83d14fec7cae84/LC80090602014344LGN01/\n"
     ]
    },
    {
     "name": "stderr",
     "output_type": "stream",
     "text": [
      "0.99GB [01:27, 12.1MB/s]                            \n"
     ]
    },
    {
     "name": "stdout",
     "output_type": "stream",
     "text": [
      "https://earthexplorer.usgs.gov/download/5e83d14fec7cae84/LC80100612014351LGN01/\n"
     ]
    },
    {
     "name": "stderr",
     "output_type": "stream",
     "text": [
      "100%|██████████| 1.02G/1.02G [01:30<00:00, 12.1MB/s]\n"
     ]
    },
    {
     "name": "stdout",
     "output_type": "stream",
     "text": [
      "https://earthexplorer.usgs.gov/download/5e83d14fec7cae84/LC80100622014351LGN01/\n"
     ]
    },
    {
     "name": "stderr",
     "output_type": "stream",
     "text": [
      "100%|██████████| 1.01G/1.01G [01:29<00:00, 12.1MB/s]\n"
     ]
    },
    {
     "name": "stdout",
     "output_type": "stream",
     "text": [
      "https://earthexplorer.usgs.gov/download/5e83d14fec7cae84/LC80100632014351LGN01/\n"
     ]
    },
    {
     "name": "stderr",
     "output_type": "stream",
     "text": [
      "1.07GB [01:34, 12.2MB/s]                            \n"
     ]
    },
    {
     "name": "stdout",
     "output_type": "stream",
     "text": [
      "https://earthexplorer.usgs.gov/download/5e83d14fec7cae84/LC80100642014351LGN01/\n"
     ]
    },
    {
     "name": "stderr",
     "output_type": "stream",
     "text": [
      "0.99GB [01:27, 12.2MB/s]                            \n"
     ]
    },
    {
     "name": "stdout",
     "output_type": "stream",
     "text": [
      "https://earthexplorer.usgs.gov/download/5e83d14fec7cae84/LC80080602014353LGN01/\n"
     ]
    },
    {
     "name": "stderr",
     "output_type": "stream",
     "text": [
      "993MB [01:26, 12.0MB/s]                            \n"
     ]
    },
    {
     "name": "stdout",
     "output_type": "stream",
     "text": [
      "https://earthexplorer.usgs.gov/download/5e83d14fec7cae84/LC80080612014353LGN01/\n"
     ]
    },
    {
     "name": "stderr",
     "output_type": "stream",
     "text": [
      "100%|██████████| 997M/997M [01:26<00:00, 12.1MB/s] \n"
     ]
    },
    {
     "name": "stdout",
     "output_type": "stream",
     "text": [
      "https://earthexplorer.usgs.gov/download/5e83d14fec7cae84/LC80080622014353LGN01/\n"
     ]
    },
    {
     "name": "stderr",
     "output_type": "stream",
     "text": [
      "100%|██████████| 937M/937M [01:22<00:00, 11.9MB/s] \n"
     ]
    },
    {
     "name": "stdout",
     "output_type": "stream",
     "text": [
      "https://earthexplorer.usgs.gov/download/5e83d14fec7cae84/LC80110612014358LGN01/\n"
     ]
    },
    {
     "name": "stderr",
     "output_type": "stream",
     "text": [
      "100%|██████████| 871M/871M [01:15<00:00, 12.1MB/s] \n"
     ]
    },
    {
     "name": "stdout",
     "output_type": "stream",
     "text": [
      "https://earthexplorer.usgs.gov/download/5e83d14fec7cae84/LC80110622014358LGN01/\n"
     ]
    },
    {
     "name": "stderr",
     "output_type": "stream",
     "text": [
      "100%|██████████| 758M/758M [01:05<00:00, 12.1MB/s] \n"
     ]
    },
    {
     "name": "stdout",
     "output_type": "stream",
     "text": [
      "https://earthexplorer.usgs.gov/download/5e83d14fec7cae84/LC80110632014358LGN01/\n"
     ]
    },
    {
     "name": "stderr",
     "output_type": "stream",
     "text": [
      "828MB [01:11, 12.2MB/s]                            \n"
     ]
    },
    {
     "name": "stdout",
     "output_type": "stream",
     "text": [
      "https://earthexplorer.usgs.gov/download/5e83d14fec7cae84/LC80090592014360LGN01/\n"
     ]
    },
    {
     "name": "stderr",
     "output_type": "stream",
     "text": [
      "1.07GB [01:35, 12.0MB/s]                            \n"
     ]
    },
    {
     "name": "stdout",
     "output_type": "stream",
     "text": [
      "https://earthexplorer.usgs.gov/download/5e83d14fec7cae84/LC80090602014360LGN01/\n"
     ]
    },
    {
     "name": "stderr",
     "output_type": "stream",
     "text": [
      "100%|██████████| 1.05G/1.05G [01:32<00:00, 12.2MB/s]\n"
     ]
    },
    {
     "name": "stdout",
     "output_type": "stream",
     "text": [
      "https://earthexplorer.usgs.gov/download/5e83d14fec7cae84/LC80090632014360LGN01/\n"
     ]
    },
    {
     "name": "stderr",
     "output_type": "stream",
     "text": [
      "100%|██████████| 1.03G/1.03G [01:35<00:00, 11.6MB/s]\n"
     ]
    },
    {
     "name": "stdout",
     "output_type": "stream",
     "text": [
      "https://earthexplorer.usgs.gov/download/5e83d14fec7cae84/LC80100592015002LGN01/\n"
     ]
    },
    {
     "name": "stderr",
     "output_type": "stream",
     "text": [
      "1.02GB [01:30, 12.1MB/s]                            \n"
     ]
    },
    {
     "name": "stdout",
     "output_type": "stream",
     "text": [
      "https://earthexplorer.usgs.gov/download/5e83d14fec7cae84/LC80100602015002LGN01/\n"
     ]
    },
    {
     "name": "stderr",
     "output_type": "stream",
     "text": [
      "1.04GB [01:32, 12.1MB/s]                            \n"
     ]
    },
    {
     "name": "stdout",
     "output_type": "stream",
     "text": [
      "https://earthexplorer.usgs.gov/download/5e83d14fec7cae84/LC80100622015002LGN01/\n"
     ]
    },
    {
     "name": "stderr",
     "output_type": "stream",
     "text": [
      "100%|██████████| 1.03G/1.03G [01:31<00:00, 12.0MB/s]\n"
     ]
    },
    {
     "name": "stdout",
     "output_type": "stream",
     "text": [
      "https://earthexplorer.usgs.gov/download/5e83d14fec7cae84/LC80100632015002LGN01/\n"
     ]
    },
    {
     "name": "stderr",
     "output_type": "stream",
     "text": [
      "100%|██████████| 1.05G/1.05G [01:35<00:00, 11.8MB/s]\n"
     ]
    },
    {
     "name": "stdout",
     "output_type": "stream",
     "text": [
      "https://earthexplorer.usgs.gov/download/5e83d14fec7cae84/LC80100642015002LGN01/\n"
     ]
    },
    {
     "name": "stderr",
     "output_type": "stream",
     "text": [
      "996MB [01:33, 11.2MB/s]                            \n"
     ]
    },
    {
     "name": "stdout",
     "output_type": "stream",
     "text": [
      "https://earthexplorer.usgs.gov/download/5e83d14fec7cae84/LC80080612015004LGN01/\n"
     ]
    },
    {
     "name": "stderr",
     "output_type": "stream",
     "text": [
      "100%|██████████| 1.00G/1.00G [01:28<00:00, 12.2MB/s]\n"
     ]
    },
    {
     "name": "stdout",
     "output_type": "stream",
     "text": [
      "https://earthexplorer.usgs.gov/download/5e83d14fec7cae84/LC80110632015009LGN01/\n"
     ]
    },
    {
     "name": "stderr",
     "output_type": "stream",
     "text": [
      "100%|██████████| 924M/924M [01:19<00:00, 12.2MB/s] \n"
     ]
    },
    {
     "name": "stdout",
     "output_type": "stream",
     "text": [
      "https://earthexplorer.usgs.gov/download/5e83d14fec7cae84/LC80100622015018LGN01/\n"
     ]
    },
    {
     "name": "stderr",
     "output_type": "stream",
     "text": [
      "100%|██████████| 0.99G/0.99G [01:26<00:00, 12.2MB/s]\n"
     ]
    }
   ],
   "source": [
    "\n",
    "\n",
    "for i in range(*download_range):\n",
    "    try:\n",
    "        scene_id = indetifier_landsat[i]\n",
    "        name_file = path_landsat[i]\n",
    "        ee.download(scene_id, output_dir=download_output_dir,dataset=\"landsat_ot_c2_l2\")\n",
    "        filename = os.path.join(download_output_dir, name_file + '.tar')\n",
    "        extracted_dir = os.path.join(download_output_dir, scene_id)\n",
    "        extract_tar(filename,extracted_dir)\n",
    "        preprocessing_output_dir_scene = os.path.join(preprocessing_output_dir, scene_id)\n",
    "        res_scaling_imgs(download_output_dir,scene_id,preprocessing_output_dir)\n",
    "        shutil.rmtree(download_output_dir)\n",
    "        os.mkdir(download_output_dir)\n",
    "    except Exception as e:\n",
    "        print(e)\n",
    "        pass\n"
   ]
  },
  {
   "cell_type": "code",
   "execution_count": null,
   "metadata": {},
   "outputs": [],
   "source": []
  }
 ],
 "metadata": {
  "kernelspec": {
   "display_name": "Python 3.10.6 64-bit",
   "language": "python",
   "name": "python3"
  },
  "language_info": {
   "codemirror_mode": {
    "name": "ipython",
    "version": 3
   },
   "file_extension": ".py",
   "mimetype": "text/x-python",
   "name": "python",
   "nbconvert_exporter": "python",
   "pygments_lexer": "ipython3",
   "version": "3.10.6"
  },
  "orig_nbformat": 4,
  "vscode": {
   "interpreter": {
    "hash": "916dbcbb3f70747c44a77c7bcd40155683ae19c65e1c03b4aa3499c5328201f1"
   }
  }
 },
 "nbformat": 4,
 "nbformat_minor": 2
}
