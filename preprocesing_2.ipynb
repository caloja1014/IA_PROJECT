{
 "cells": [
  {
   "cell_type": "code",
   "execution_count": 3,
   "metadata": {},
   "outputs": [],
   "source": [
    "from PIL import Image\n",
    "import os\n",
    "def crop(path, input, height, width, k, page, area):\n",
    "    im = Image.open(input)\n",
    "    imgwidth, imgheight = im.size\n",
    "    for i in range(0,imgheight,height):\n",
    "        for j in range(0,imgwidth,width):\n",
    "            box = (j, i, j+width, i+height)\n",
    "            a = im.crop(box)\n",
    "            try:\n",
    "                o = a.crop(area)\n",
    "\n",
    "                \n",
    "                print( \"hola\")\n",
    "                path_png=os.path.join(path,\"PNG\")\n",
    "                if not os.path.exists(path_png):\n",
    "                    os.mkdir(path_png)\n",
    "                if not os.path.exists(os.path.join (path_png,\"% s\" % page)):\n",
    "                    os.mkdir(os.path.join(path_png,\"%s\" % page))\n",
    "                o.save(os.path.join(path_png,\"%s\" % page,\"IMG-%s.png\" % k))\n",
    "            except Exception as err:\n",
    "                print(\"no\", err)\n",
    "                pass\n",
    "            k +=1"
   ]
  },
  {
   "cell_type": "code",
   "execution_count": 4,
   "metadata": {},
   "outputs": [],
   "source": [
    "# crop('/home/caloja/Documents/university/IA/','/home/caloja/Documents/university/IA/data_landsat/preprocessed/LC80080602013206LGN01/LC08_L2SP_008060_20130725_20200912_02_T2_QA_PIXEL.TIF',240,240,0,0,(0,0,240,240))"
   ]
  },
  {
   "cell_type": "code",
   "execution_count": 8,
   "metadata": {},
   "outputs": [],
   "source": [
    "from img_procesing import crop_landsat_image, generate_landsat_imgs\n",
    "from glob import glob\n"
   ]
  },
  {
   "cell_type": "code",
   "execution_count": 9,
   "metadata": {},
   "outputs": [],
   "source": [
    "path_to_save='/home/caloja/Documents/university/IA/data_landsat/preprocessed_2'\n",
    "landsat_paths_general=glob('/home/caloja/Documents/university/IA/data_landsat/preprocessed/*')"
   ]
  },
  {
   "cell_type": "code",
   "execution_count": 10,
   "metadata": {},
   "outputs": [],
   "source": [
    "limit=50"
   ]
  },
  {
   "cell_type": "code",
   "execution_count": 11,
   "metadata": {},
   "outputs": [],
   "source": [
    "d_crop_landsat_img=crop_landsat_image(path_to_save,landsat_paths_general[:limit])"
   ]
  },
  {
   "cell_type": "code",
   "execution_count": 12,
   "metadata": {},
   "outputs": [],
   "source": [
    "# save d_crop_landsat_img in a file\n",
    "import pickle\n",
    "with open('d_crop_landsat_img.pkl', 'wb') as f:\n",
    "    pickle.dump(d_crop_landsat_img, f)"
   ]
  },
  {
   "cell_type": "code",
   "execution_count": 1,
   "metadata": {},
   "outputs": [],
   "source": [
    "# read d_crop_landsat_img from a file\n",
    "\n",
    "import pickle\n",
    "with open('d_crop_landsat_img.pkl', 'rb') as f:\n",
    "    d_crop_landsat_img = pickle.load(f)\n"
   ]
  },
  {
   "cell_type": "code",
   "execution_count": 13,
   "metadata": {},
   "outputs": [],
   "source": [
    "from img_procesing import  generate_landsat_imgs\n"
   ]
  },
  {
   "cell_type": "code",
   "execution_count": 14,
   "metadata": {},
   "outputs": [],
   "source": [
    "path_to_save_preprocesed_2='/home/caloja/Documents/university/IA/data_landsat/preprocessed_3'"
   ]
  },
  {
   "cell_type": "code",
   "execution_count": 15,
   "metadata": {},
   "outputs": [],
   "source": [
    "import importlib\n",
    "import warnings\n",
    "warnings.filterwarnings('ignore')\n"
   ]
  },
  {
   "cell_type": "code",
   "execution_count": 16,
   "metadata": {},
   "outputs": [],
   "source": [
    "imported_module = importlib.import_module('img_procesing')"
   ]
  },
  {
   "cell_type": "code",
   "execution_count": 17,
   "metadata": {},
   "outputs": [
    {
     "data": {
      "text/plain": [
       "<module 'img_procesing' from '/home/caloja/Documents/university/IA/img_procesing.py'>"
      ]
     },
     "execution_count": 17,
     "metadata": {},
     "output_type": "execute_result"
    }
   ],
   "source": [
    "importlib.reload(imported_module)"
   ]
  },
  {
   "cell_type": "code",
   "execution_count": 18,
   "metadata": {},
   "outputs": [
    {
     "name": "stdout",
     "output_type": "stream",
     "text": [
      "5000\n",
      "5000 5000\n"
     ]
    }
   ],
   "source": [
    "generate_landsat_imgs(path_to_save_preprocesed_2,d_crop_landsat_img)"
   ]
  },
  {
   "cell_type": "code",
   "execution_count": null,
   "metadata": {},
   "outputs": [],
   "source": []
  }
 ],
 "metadata": {
  "kernelspec": {
   "display_name": "Python 3.10.6 64-bit",
   "language": "python",
   "name": "python3"
  },
  "language_info": {
   "codemirror_mode": {
    "name": "ipython",
    "version": 3
   },
   "file_extension": ".py",
   "mimetype": "text/x-python",
   "name": "python",
   "nbconvert_exporter": "python",
   "pygments_lexer": "ipython3",
   "version": "3.10.6"
  },
  "orig_nbformat": 4,
  "vscode": {
   "interpreter": {
    "hash": "916dbcbb3f70747c44a77c7bcd40155683ae19c65e1c03b4aa3499c5328201f1"
   }
  }
 },
 "nbformat": 4,
 "nbformat_minor": 2
}
